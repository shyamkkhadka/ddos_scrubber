{
 "cells": [
  {
   "cell_type": "markdown",
   "id": "558ac0fc3c4147a1",
   "metadata": {},
   "source": [
    "# Working with OpenINTEL data in pandas/pyarrow\n",
    "\n",
    "Note that pandas is sufficient for smaller computation loads. OpenINTEL data can be large, and pandas might not be suitable.\n",
    "Other tools that we have available at DACS include a Spark based compute cluster, and clickhouseDB."
   ]
  },
  {
   "cell_type": "code",
   "execution_count": 1,
   "id": "initial_id",
   "metadata": {
    "ExecuteTime": {
     "end_time": "2025-02-11T10:55:15.734820Z",
     "start_time": "2025-02-11T10:55:15.375744Z"
    }
   },
   "outputs": [],
   "source": [
    "import pandas as pd\n",
    "import requests\n",
    "import io\n",
    "\n",
    "# You also need to have the package 'pyarrow' installed!"
   ]
  },
  {
   "cell_type": "code",
   "execution_count": 4,
   "id": "3962cc6bbf81edaf",
   "metadata": {
    "ExecuteTime": {
     "end_time": "2025-02-11T10:55:15.739954Z",
     "start_time": "2025-02-11T10:55:15.738291Z"
    }
   },
   "outputs": [],
   "source": [
    "# OpenINTEL open data URL, full directory available at: https://openintel.nl/download/\n",
    "openintel_url = 'https://object.openintel.nl/openintel-public/fdns/basis=toplist/source=tranco/year=2024/month=01/day=01/part-00000-c96c4d48-1931-4519-8c15-95d0ddaa128a-c000-92c637e9-2f09-47fc-8379-d76fc284e888.gz.parquet'"
   ]
  },
  {
   "cell_type": "code",
   "execution_count": 5,
   "id": "d51ac9d31042ba8d",
   "metadata": {
    "ExecuteTime": {
     "end_time": "2025-02-11T10:55:20.709174Z",
     "start_time": "2025-02-11T10:55:16.002033Z"
    }
   },
   "outputs": [],
   "source": [
    "# Download the file into memory\n",
    "response = requests.get(openintel_url)\n",
    "response.raise_for_status()  # Raise an error if the download fails"
   ]
  },
  {
   "cell_type": "code",
   "execution_count": 6,
   "id": "5b2371527e5ae0b6",
   "metadata": {
    "ExecuteTime": {
     "end_time": "2025-02-11T10:55:31.115751Z",
     "start_time": "2025-02-11T10:55:20.714444Z"
    }
   },
   "outputs": [
    {
     "name": "stdout",
     "output_type": "stream",
     "text": [
      "  query_type                                   query_name response_type  \\\n",
      "0          A  xn--12cs4acv8cd1d0ae5bg9g1jsac.xn--t60b56a.             A   \n",
      "1          A  xn--12cs4acv8cd1d0ae5bg9g1jsac.xn--t60b56a.             A   \n",
      "2       AAAA  xn--12cs4acv8cd1d0ae5bg9g1jsac.xn--t60b56a.          AAAA   \n",
      "3       AAAA  xn--12cs4acv8cd1d0ae5bg9g1jsac.xn--t60b56a.          AAAA   \n",
      "4         NS  xn--12cs4acv8cd1d0ae5bg9g1jsac.xn--t60b56a.            NS   \n",
      "\n",
      "                                 response_name  response_ttl      timestamp  \\\n",
      "0  xn--12cs4acv8cd1d0ae5bg9g1jsac.xn--t60b56a.         300.0  1704074589000   \n",
      "1  xn--12cs4acv8cd1d0ae5bg9g1jsac.xn--t60b56a.         300.0  1704074589000   \n",
      "2  xn--12cs4acv8cd1d0ae5bg9g1jsac.xn--t60b56a.         300.0  1704074589000   \n",
      "3  xn--12cs4acv8cd1d0ae5bg9g1jsac.xn--t60b56a.         300.0  1704074589000   \n",
      "4  xn--12cs4acv8cd1d0ae5bg9g1jsac.xn--t60b56a.       86400.0  1704074589000   \n",
      "\n",
      "        rtt   worker_id  status_code  ad_flag  ... cdnskey_pk_eddsa_a  \\\n",
      "0  0.007108  1582299107            0        0  ...               None   \n",
      "1  0.007108  1582299107            0        0  ...               None   \n",
      "2  0.025587  1582299107            0        0  ...               None   \n",
      "3  0.025587  1582299107            0        0  ...               None   \n",
      "4  0.021943  1582299107            0        0  ...               None   \n",
      "\n",
      "  cdnskey_pk_wire caa_flags caa_tag caa_value tlsa_usage tlsa_selector  \\\n",
      "0            None       NaN    None      None        NaN           NaN   \n",
      "1            None       NaN    None      None        NaN           NaN   \n",
      "2            None       NaN    None      None        NaN           NaN   \n",
      "3            None       NaN    None      None        NaN           NaN   \n",
      "4            None       NaN    None      None        NaN           NaN   \n",
      "\n",
      "  tlsa_matchtype tlsa_certdata ptr_name  \n",
      "0            NaN          None     None  \n",
      "1            NaN          None     None  \n",
      "2            NaN          None     None  \n",
      "3            NaN          None     None  \n",
      "4            NaN          None     None  \n",
      "\n",
      "[5 rows x 98 columns]\n"
     ]
    }
   ],
   "source": [
    "# Read the parquet file into a DataFrame\n",
    "df = pd.read_parquet(io.BytesIO(response.content), engine=\"pyarrow\")\n",
    "\n",
    "# Display the first few rows\n",
    "print(df.head())"
   ]
  },
  {
   "cell_type": "code",
   "execution_count": 5,
   "id": "3a5bb3d6",
   "metadata": {},
   "outputs": [
    {
     "data": {
      "text/plain": [
       "Index(['query_type', 'query_name', 'response_type', 'response_name',\n",
       "       'response_ttl', 'timestamp', 'rtt', 'worker_id', 'status_code',\n",
       "       'ad_flag', 'section', 'ip4_address', 'ip6_address', 'country', 'as',\n",
       "       'as_full', 'ip_prefix', 'cname_name', 'dname_name', 'mx_address',\n",
       "       'mx_preference', 'ns_address', 'txt_text', 'ds_key_tag', 'ds_algorithm',\n",
       "       'ds_digest_type', 'ds_digest', 'dnskey_flags', 'dnskey_protocol',\n",
       "       'dnskey_algorithm', 'dnskey_pk_rsa_n', 'dnskey_pk_rsa_e',\n",
       "       'dnskey_pk_rsa_bitsize', 'dnskey_pk_eccgost_x', 'dnskey_pk_eccgost_y',\n",
       "       'dnskey_pk_dsa_t', 'dnskey_pk_dsa_q', 'dnskey_pk_dsa_p',\n",
       "       'dnskey_pk_dsa_g', 'dnskey_pk_dsa_y', 'dnskey_pk_eddsa_a',\n",
       "       'dnskey_pk_wire', 'nsec_next_domain_name', 'nsec_owner_rrset_types',\n",
       "       'nsec3_hash_algorithm', 'nsec3_flags', 'nsec3_iterations', 'nsec3_salt',\n",
       "       'nsec3_next_domain_name_hash', 'nsec3_owner_rrset_types',\n",
       "       'nsec3param_hash_algorithm', 'nsec3param_flags',\n",
       "       'nsec3param_iterations', 'nsec3param_salt', 'spf_text', 'soa_mname',\n",
       "       'soa_rname', 'soa_serial', 'soa_refresh', 'soa_retry', 'soa_expire',\n",
       "       'soa_minimum', 'rrsig_type_covered', 'rrsig_algorithm', 'rrsig_labels',\n",
       "       'rrsig_original_ttl', 'rrsig_signature_inception',\n",
       "       'rrsig_signature_expiration', 'rrsig_key_tag', 'rrsig_signer_name',\n",
       "       'rrsig_signature', 'cds_key_tag', 'cds_algorithm', 'cds_digest_type',\n",
       "       'cds_digest', 'cdnskey_flags', 'cdnskey_protocol', 'cdnskey_algorithm',\n",
       "       'cdnskey_pk_rsa_n', 'cdnskey_pk_rsa_e', 'cdnskey_pk_rsa_bitsize',\n",
       "       'cdnskey_pk_eccgost_x', 'cdnskey_pk_eccgost_y', 'cdnskey_pk_dsa_t',\n",
       "       'cdnskey_pk_dsa_q', 'cdnskey_pk_dsa_p', 'cdnskey_pk_dsa_g',\n",
       "       'cdnskey_pk_dsa_y', 'cdnskey_pk_eddsa_a', 'cdnskey_pk_wire',\n",
       "       'caa_flags', 'caa_tag', 'caa_value', 'tlsa_usage', 'tlsa_selector',\n",
       "       'tlsa_matchtype', 'tlsa_certdata', 'ptr_name'],\n",
       "      dtype='object')"
      ]
     },
     "execution_count": 5,
     "metadata": {},
     "output_type": "execute_result"
    }
   ],
   "source": [
    "df.columns"
   ]
  },
  {
   "cell_type": "code",
   "execution_count": 31,
   "id": "00e0792d",
   "metadata": {},
   "outputs": [
    {
     "data": {
      "text/html": [
       "<div>\n",
       "<style scoped>\n",
       "    .dataframe tbody tr th:only-of-type {\n",
       "        vertical-align: middle;\n",
       "    }\n",
       "\n",
       "    .dataframe tbody tr th {\n",
       "        vertical-align: top;\n",
       "    }\n",
       "\n",
       "    .dataframe thead th {\n",
       "        text-align: right;\n",
       "    }\n",
       "</style>\n",
       "<table border=\"1\" class=\"dataframe\">\n",
       "  <thead>\n",
       "    <tr style=\"text-align: right;\">\n",
       "      <th></th>\n",
       "      <th>query_type</th>\n",
       "      <th>query_name</th>\n",
       "      <th>response_type</th>\n",
       "      <th>response_name</th>\n",
       "      <th>response_ttl</th>\n",
       "      <th>timestamp</th>\n",
       "      <th>rtt</th>\n",
       "      <th>worker_id</th>\n",
       "      <th>status_code</th>\n",
       "      <th>ad_flag</th>\n",
       "      <th>...</th>\n",
       "      <th>cdnskey_pk_eddsa_a</th>\n",
       "      <th>cdnskey_pk_wire</th>\n",
       "      <th>caa_flags</th>\n",
       "      <th>caa_tag</th>\n",
       "      <th>caa_value</th>\n",
       "      <th>tlsa_usage</th>\n",
       "      <th>tlsa_selector</th>\n",
       "      <th>tlsa_matchtype</th>\n",
       "      <th>tlsa_certdata</th>\n",
       "      <th>ptr_name</th>\n",
       "    </tr>\n",
       "  </thead>\n",
       "  <tbody>\n",
       "    <tr>\n",
       "      <th>3990014</th>\n",
       "      <td>TXT</td>\n",
       "      <td>_dmarc.ultradns.net.</td>\n",
       "      <td>CNAME</td>\n",
       "      <td>_dmarc.ultradns.net.</td>\n",
       "      <td>300.0</td>\n",
       "      <td>1704071178000</td>\n",
       "      <td>0.030493</td>\n",
       "      <td>1582299107</td>\n",
       "      <td>0</td>\n",
       "      <td>0</td>\n",
       "      <td>...</td>\n",
       "      <td>None</td>\n",
       "      <td>None</td>\n",
       "      <td>NaN</td>\n",
       "      <td>None</td>\n",
       "      <td>None</td>\n",
       "      <td>NaN</td>\n",
       "      <td>NaN</td>\n",
       "      <td>NaN</td>\n",
       "      <td>None</td>\n",
       "      <td>None</td>\n",
       "    </tr>\n",
       "  </tbody>\n",
       "</table>\n",
       "<p>1 rows × 98 columns</p>\n",
       "</div>"
      ],
      "text/plain": [
       "        query_type            query_name response_type         response_name  \\\n",
       "3990014        TXT  _dmarc.ultradns.net.         CNAME  _dmarc.ultradns.net.   \n",
       "\n",
       "         response_ttl      timestamp       rtt   worker_id  status_code  \\\n",
       "3990014         300.0  1704071178000  0.030493  1582299107            0   \n",
       "\n",
       "         ad_flag  ... cdnskey_pk_eddsa_a cdnskey_pk_wire caa_flags caa_tag  \\\n",
       "3990014        0  ...               None            None       NaN    None   \n",
       "\n",
       "        caa_value tlsa_usage tlsa_selector tlsa_matchtype tlsa_certdata  \\\n",
       "3990014      None        NaN           NaN            NaN          None   \n",
       "\n",
       "        ptr_name  \n",
       "3990014     None  \n",
       "\n",
       "[1 rows x 98 columns]"
      ]
     },
     "execution_count": 31,
     "metadata": {},
     "output_type": "execute_result"
    }
   ],
   "source": [
    "tranco_a_df = df[df['response_type'] == 'CNAME'] # Filter on DNS response type A\n",
    "# tranco_a_ip4_df = tranco_a_df[tranco_a_df['ip4_address'] == \"170.114.52.2\"]\n",
    "# tranco_a_ip4_df[['ip4_address', 'query_name', 'response_name', 'cname_name']]\n",
    "df2 = tranco_a_df[tranco_a_df[\"response_name\"].str.contains('ultradns.net', case=False, na=False)]\n",
    "df2\n",
    "# tranco_a_df[\"response_name\"].unique()[0:10]"
   ]
  },
  {
   "cell_type": "code",
   "execution_count": 16,
   "id": "73ccf3e4",
   "metadata": {},
   "outputs": [
    {
     "data": {
      "text/html": [
       "<div>\n",
       "<style scoped>\n",
       "    .dataframe tbody tr th:only-of-type {\n",
       "        vertical-align: middle;\n",
       "    }\n",
       "\n",
       "    .dataframe tbody tr th {\n",
       "        vertical-align: top;\n",
       "    }\n",
       "\n",
       "    .dataframe thead th {\n",
       "        text-align: right;\n",
       "    }\n",
       "</style>\n",
       "<table border=\"1\" class=\"dataframe\">\n",
       "  <thead>\n",
       "    <tr style=\"text-align: right;\">\n",
       "      <th></th>\n",
       "      <th>ip4_address</th>\n",
       "      <th>query_name</th>\n",
       "      <th>response_name</th>\n",
       "    </tr>\n",
       "  </thead>\n",
       "  <tbody>\n",
       "    <tr>\n",
       "      <th>3925041</th>\n",
       "      <td>170.114.52.2</td>\n",
       "      <td>zoom.us.</td>\n",
       "      <td>zoom.us.</td>\n",
       "    </tr>\n",
       "    <tr>\n",
       "      <th>3925096</th>\n",
       "      <td>170.114.52.2</td>\n",
       "      <td>www.zoom.us.</td>\n",
       "      <td>zoom.us.</td>\n",
       "    </tr>\n",
       "  </tbody>\n",
       "</table>\n",
       "</div>"
      ],
      "text/plain": [
       "          ip4_address    query_name response_name\n",
       "3925041  170.114.52.2      zoom.us.      zoom.us.\n",
       "3925096  170.114.52.2  www.zoom.us.      zoom.us."
      ]
     },
     "execution_count": 16,
     "metadata": {},
     "output_type": "execute_result"
    }
   ],
   "source": [
    "tranco_a_df = df[df['response_type'] == 'A'] # Filter on DNS response type A\n",
    "tranco_a_ip4_df = tranco_a_df[tranco_a_df['ip4_address'] == \"170.114.52.2\"]\n",
    "tranco_a_ip4_df[['ip4_address', 'query_name', 'response_name']]"
   ]
  },
  {
   "cell_type": "code",
   "execution_count": 6,
   "id": "eb08cdd092b017f8",
   "metadata": {
    "ExecuteTime": {
     "end_time": "2025-02-11T10:55:36.308704Z",
     "start_time": "2025-02-11T10:55:31.154414Z"
    }
   },
   "outputs": [
    {
     "name": "stderr",
     "output_type": "stream",
     "text": [
      "/tmp/ipykernel_66333/878748865.py:7: SettingWithCopyWarning: \n",
      "A value is trying to be set on a copy of a slice from a DataFrame.\n",
      "Try using .loc[row_indexer,col_indexer] = value instead\n",
      "\n",
      "See the caveats in the documentation: https://pandas.pydata.org/pandas-docs/stable/user_guide/indexing.html#returning-a-view-versus-a-copy\n",
      "  tranco_a_df['domain'] = tranco_a_df['response_name'].str.rstrip('.')\n"
     ]
    },
    {
     "name": "stdout",
     "output_type": "stream",
     "text": [
      "Total IP4 addresses found: 2915481 and unique addresses are 598212\n"
     ]
    }
   ],
   "source": [
    "# Process the OpenINTEL data\n",
    "tranco_a_df = df[df['response_type'] == 'A'] # Filter on DNS response type A\n",
    "tranco_a_ip4_df = tranco_a_df['ip4_address']  # Get the column we want\n",
    "\n",
    "tranco_a_ip4_nparray = tranco_a_ip4_df.unique()  # Only grab unique values\n",
    "\n",
    "tranco_a_df['domain'] = tranco_a_df['response_name'].str.rstrip('.')\n",
    "\n",
    "tranco_domain_a_df = tranco_a_df[['domain', 'ip4_address']].copy()\n",
    "unique_tranco_domain_a_df = tranco_domain_a_df.drop_duplicates()\n",
    " # Sometimes duplications are found.\n",
    "# Print count\n",
    "print('Total IP4 addresses found: %s and unique addresses are %s' %((len(tranco_a_ip4_df), len(tranco_a_ip4_nparray))))"
   ]
  },
  {
   "cell_type": "code",
   "execution_count": 7,
   "id": "30a58c2a",
   "metadata": {},
   "outputs": [],
   "source": [
    "unique_tranco_domain_a_df.to_csv(\"../data/tranco-1m/openintel_domain_a_record.csv\", index=False)"
   ]
  },
  {
   "cell_type": "code",
   "execution_count": 8,
   "id": "c06302ff",
   "metadata": {},
   "outputs": [],
   "source": [
    "# Save ranks of tranco domains in a csv file: tranco_domains_with_rank.csv\n",
    "import csv\n",
    "\n",
    "# Load domains and assign ranks\n",
    "rank_dict = {}\n",
    "with open(\"../data/tranco-1m/top-1m.txt\", \"r\", encoding=\"utf-8\") as f, open(\"../data/tranco-1m/tranco_domains_with_rank.csv\", \"w\") as out:\n",
    "    writer = csv.writer(out)\n",
    "    writer.writerow([\"domain\", \"rank\"])\n",
    "    \n",
    "    for rank, domain in enumerate(f, start=1):  # Auto-assign rank\n",
    "        domain = domain.strip()\n",
    "        rank_dict[domain] = str(rank)\n",
    "        writer.writerow([domain, rank])"
   ]
  },
  {
   "cell_type": "code",
   "execution_count": 9,
   "id": "0cb27577",
   "metadata": {},
   "outputs": [],
   "source": [
    "# Find ranks of tranco 1M domains with their A records (IP address/es) and save it into a file.\n",
    "import csv\n",
    "import pandas as pd\n",
    "\n",
    "# 1. Read tranco_domain_a_df that has domain name and ranks: openintel_domain_a_record\n",
    "# 2. Join it with tranco_domains_with_rank\n",
    "df1 = pd.read_csv(\"../data/tranco-1m/tranco_domains_with_rank.csv\")\n",
    "df2 = pd.read_csv(\"../data/tranco-1m/openintel_domain_a_record.csv\")\n",
    "df3 = df1.merge(df2, how='left', on='domain')\n",
    "\n",
    "df3.to_csv(\"../data/tranco-1m/openintel_tranco_resolved_with_rank.csv\", index=False)"
   ]
  },
  {
   "cell_type": "code",
   "execution_count": 10,
   "id": "7e42b382",
   "metadata": {},
   "outputs": [
    {
     "data": {
      "text/html": [
       "<div>\n",
       "<style scoped>\n",
       "    .dataframe tbody tr th:only-of-type {\n",
       "        vertical-align: middle;\n",
       "    }\n",
       "\n",
       "    .dataframe tbody tr th {\n",
       "        vertical-align: top;\n",
       "    }\n",
       "\n",
       "    .dataframe thead th {\n",
       "        text-align: right;\n",
       "    }\n",
       "</style>\n",
       "<table border=\"1\" class=\"dataframe\">\n",
       "  <thead>\n",
       "    <tr style=\"text-align: right;\">\n",
       "      <th></th>\n",
       "      <th>domain</th>\n",
       "      <th>ip4_address</th>\n",
       "    </tr>\n",
       "  </thead>\n",
       "  <tbody>\n",
       "    <tr>\n",
       "      <th>739081</th>\n",
       "      <td>zoom.us</td>\n",
       "      <td>170.114.52.2</td>\n",
       "    </tr>\n",
       "  </tbody>\n",
       "</table>\n",
       "</div>"
      ],
      "text/plain": [
       "         domain   ip4_address\n",
       "739081  zoom.us  170.114.52.2"
      ]
     },
     "execution_count": 10,
     "metadata": {},
     "output_type": "execute_result"
    }
   ],
   "source": [
    "df2[df2[\"domain\"] == \"zoom.us\"]"
   ]
  },
  {
   "cell_type": "code",
   "execution_count": 11,
   "id": "4418f7e4",
   "metadata": {},
   "outputs": [
    {
     "data": {
      "text/html": [
       "<div>\n",
       "<style scoped>\n",
       "    .dataframe tbody tr th:only-of-type {\n",
       "        vertical-align: middle;\n",
       "    }\n",
       "\n",
       "    .dataframe tbody tr th {\n",
       "        vertical-align: top;\n",
       "    }\n",
       "\n",
       "    .dataframe thead th {\n",
       "        text-align: right;\n",
       "    }\n",
       "</style>\n",
       "<table border=\"1\" class=\"dataframe\">\n",
       "  <thead>\n",
       "    <tr style=\"text-align: right;\">\n",
       "      <th></th>\n",
       "      <th>domain</th>\n",
       "      <th>rank</th>\n",
       "      <th>ip4_address</th>\n",
       "    </tr>\n",
       "  </thead>\n",
       "  <tbody>\n",
       "    <tr>\n",
       "      <th>131</th>\n",
       "      <td>zoom.us</td>\n",
       "      <td>76</td>\n",
       "      <td>170.114.52.2</td>\n",
       "    </tr>\n",
       "  </tbody>\n",
       "</table>\n",
       "</div>"
      ],
      "text/plain": [
       "      domain  rank   ip4_address\n",
       "131  zoom.us    76  170.114.52.2"
      ]
     },
     "execution_count": 11,
     "metadata": {},
     "output_type": "execute_result"
    }
   ],
   "source": [
    "df3[df3[\"domain\"] == \"zoom.us\"]"
   ]
  },
  {
   "cell_type": "code",
   "execution_count": 18,
   "id": "79150b80",
   "metadata": {},
   "outputs": [
    {
     "name": "stdout",
     "output_type": "stream",
     "text": [
      "Number of IPs protected by the five scrubber's protected prefixes is: 6794 and IPs saved in openintel_tranco_scrubber_covered_ip.txt\n"
     ]
    }
   ],
   "source": [
    "# Find the number of matched IP addresses \n",
    "\n",
    "# Compare the ip addresses with the protected prefixes using pytricia loop\n",
    "import pandas as pd\n",
    "import ipaddress\n",
    "import pytricia\n",
    "\n",
    "\n",
    "def build_prefix_trees(prefix_list):\n",
    "    \"\"\"Builds two Patricia Tries: one for IPv4 and one for IPv6.\"\"\"\n",
    "    pt_v4 = pytricia.PyTricia()\n",
    "    pt_v6 = pytricia.PyTricia()\n",
    "\n",
    "    for prefix in prefix_list:\n",
    "        network = ipaddress.ip_network(prefix)\n",
    "        if network.version == 4:\n",
    "\n",
    "            pt_v4[prefix] = True\n",
    "        else:\n",
    "            pt_v6[prefix] = True\n",
    "\n",
    "    return pt_v4, pt_v6\n",
    "\n",
    "def count_covered_ips(ip_list, pt_v4, pt_v6):\n",
    "    \"\"\"Counts how many IPs are covered by the prefixes in the Patricia Tries.\"\"\"\n",
    "    count = 0\n",
    "    for ip in ip_list:\n",
    "        ip_obj = ipaddress.ip_address(ip)\n",
    "        if ip_obj.version == 4 and pt_v4.get(ip):\n",
    "            count += 1\n",
    "        elif ip_obj.version == 6 and pt_v6.get(ip):\n",
    "            count += 1\n",
    "\n",
    "    return count\n",
    "\n",
    "\n",
    "def get_covered_ips(ip_list, pt_v4, pt_v6):\n",
    "    \"\"\"Returns the list of IPs covered by prefixes in the Patricia Trie.\"\"\"\n",
    "    covered_ips = []\n",
    "    for ip in ip_list:\n",
    "        ip_obj = ipaddress.ip_address(ip)\n",
    "        if ip_obj.version == 4 and pt_v4.get(ip):\n",
    "            covered_ips.append(ip)\n",
    "        elif ip_obj.version == 6 and pt_v6.get(ip):\n",
    "            covered_ips.append(ip)\n",
    "#     covered_ips = [ip for ip in ip_list if prefix_tree.get(ip)]\n",
    "    return covered_ips\n",
    "\n",
    "\n",
    "\n",
    "# Protected prefixes lists using all five scrubberscovered_count\n",
    "df = pd.read_csv(\"../data/customers_prefixes_scrubber_all_2024.csv\") \n",
    "protected_prefixes = df[\"prefix\"].tolist()\n",
    "\n",
    "# Openintel list of IP addresses\n",
    "df = pd.read_csv(\"../data/tranco-1m/openintel_tranco_resolved_with_rank.csv\") \n",
    "df_cleaned = df.dropna()\n",
    "\n",
    "tranco_ip_addresses = df_cleaned[\"ip4_address\"].unique()\n",
    "\n",
    "# Build separate prefix trees for IPv4 and IPv6\n",
    "pt_v4, pt_v6 = build_prefix_trees(protected_prefixes)\n",
    "\n",
    "# Find the number of IPs covered\n",
    "covered_count = count_covered_ips(tranco_ip_addresses, pt_v4, pt_v6)\n",
    "\n",
    "# Find the IPs covered\n",
    "covered_ips = get_covered_ips(tranco_ip_addresses, pt_v4, pt_v6)\n",
    "\n",
    "\n",
    "# Save covered ips in a .txt file.\n",
    "with open(\"../data/tranco-1m/openintel_tranco_scrubber_covered_ip.txt\", \"w\", encoding=\"utf-8\") as f:\n",
    "    for ip in covered_ips:\n",
    "        f.write(f\"{ip}\\n\")\n",
    "print(f\"Number of IPs protected by the five scrubber's protected prefixes is: {len(covered_ips)} and IPs saved in openintel_tranco_scrubber_covered_ip.txt\")\n"
   ]
  },
  {
   "cell_type": "code",
   "execution_count": 24,
   "id": "f440eaa0",
   "metadata": {},
   "outputs": [
    {
     "name": "stdout",
     "output_type": "stream",
     "text": [
      "31648 number of domains are protected. \n",
      "\n"
     ]
    }
   ],
   "source": [
    "# Find ranks of tranco 1M domains with their A records (IP address/es) and save it into a file.\n",
    "import csv\n",
    "\n",
    "covered_ips = []\n",
    "# Parse massdns results\n",
    "with open(\"../data/tranco-1m/openintel_tranco_scrubber_covered_ip.txt\", \"r\", encoding=\"utf-8\") as f:\n",
    "    for line in f:\n",
    "        ip = line.strip(\"\\n\")\n",
    "        covered_ips.append(ip)\n",
    "        \n",
    "# Convert it into a dataframe with column name ipv4_address\n",
    "df1 = pd.DataFrame(covered_ips, columns=['ip4_address'])\n",
    "\n",
    "df2 = pd.read_csv(\"../data/tranco-1m/openintel_tranco_resolved_with_rank.csv\")\n",
    "\n",
    "# df3 = df2.merge(df1, how='inner', on='ip4_address')\n",
    "        \n",
    "    \n",
    "result = df1.merge(df2, on='ip4_address', how='inner')\n",
    "result.to_csv(\"../data/tranco-1m/openintel_ip_domains_ranks.csv\", index=False)\n",
    "\n",
    "print(\"%s number of domains are protected. \\n\" %len(result))\n"
   ]
  },
  {
   "cell_type": "code",
   "execution_count": 52,
   "id": "189fd074",
   "metadata": {},
   "outputs": [],
   "source": [
    "# Find the number of domains hosted by those IP addresses\n",
    "# Reverse IP lookup, results saved in /home/shyam/jupy/ddos_scrubber/data/tranco-1m/ttranco_scrubber_covered_ptr_results.txt\n",
    "import pandas as pd\n",
    "from ipaddress import ip_address\n",
    "\n",
    "# Input and output file names\n",
    "df = pd.read_csv(\"../data/tranco-1m/openintel_ip_domains_ranks.csv\")\n",
    "ptr_file = \"../data/tranco-1m/openintel_tranco_scrubber_covered_ptr.txt\"\n",
    "\n",
    "df_new = df.copy()\n",
    "def reverse_ptr(ip):\n",
    "    return ip_address(ip).reverse_pointer\n",
    "\n",
    "df_new['rev_ptr'] = df_new['ip4_address'].apply(reverse_ptr)\n",
    "\n",
    "df_new.to_csv(\"../data/tranco-1m/openintel_tranco_scrubber_covered_ptr.csv\")\n"
   ]
  },
  {
   "cell_type": "code",
   "execution_count": 59,
   "id": "7d2a3ed6",
   "metadata": {},
   "outputs": [
    {
     "name": "stdout",
     "output_type": "stream",
     "text": [
      "Number of IPs protected by the five scrubber's protected prefixes is: 6794 and IPs saved in openintel_tranco_scrubber_covered_ptr_only.txt\n"
     ]
    }
   ],
   "source": [
    "import pandas as pd\n",
    "ptr = pd.read_csv(\"../data/tranco-1m/openintel_tranco_scrubber_covered_ptr.csv\")\n",
    "a = ptr[\"rev_ptr\"].unique()\n",
    "\n",
    "# Save covered ips in a .txt file.\n",
    "with open(\"../data/tranco-1m/openintel_tranco_scrubber_covered_ptr_only.txt\", \"w\", encoding=\"utf-8\") as f:\n",
    "    for ip in a:\n",
    "        f.write(f\"{ip}\\n\")\n",
    "print(f\"Number of IPs protected by the five scrubber's protected prefixes is: {len(a)} and IPs saved in openintel_tranco_scrubber_covered_ptr_only.txt\")"
   ]
  },
  {
   "cell_type": "code",
   "execution_count": 51,
   "id": "cdc05a6e",
   "metadata": {},
   "outputs": [
    {
     "data": {
      "text/html": [
       "<div>\n",
       "<style scoped>\n",
       "    .dataframe tbody tr th:only-of-type {\n",
       "        vertical-align: middle;\n",
       "    }\n",
       "\n",
       "    .dataframe tbody tr th {\n",
       "        vertical-align: top;\n",
       "    }\n",
       "\n",
       "    .dataframe thead th {\n",
       "        text-align: right;\n",
       "    }\n",
       "</style>\n",
       "<table border=\"1\" class=\"dataframe\">\n",
       "  <thead>\n",
       "    <tr style=\"text-align: right;\">\n",
       "      <th></th>\n",
       "      <th>ip4_address</th>\n",
       "      <th>domain</th>\n",
       "      <th>rank</th>\n",
       "      <th>rev_ptr</th>\n",
       "    </tr>\n",
       "  </thead>\n",
       "  <tbody>\n",
       "    <tr>\n",
       "      <th>0</th>\n",
       "      <td>170.114.52.2</td>\n",
       "      <td>zoom.us</td>\n",
       "      <td>76</td>\n",
       "      <td>2.52.114.170.in-addr.arpa</td>\n",
       "    </tr>\n",
       "    <tr>\n",
       "      <th>1</th>\n",
       "      <td>141.193.213.20</td>\n",
       "      <td>applovin.com</td>\n",
       "      <td>240</td>\n",
       "      <td>20.213.193.141.in-addr.arpa</td>\n",
       "    </tr>\n",
       "    <tr>\n",
       "      <th>2</th>\n",
       "      <td>141.193.213.20</td>\n",
       "      <td>forter.com</td>\n",
       "      <td>591</td>\n",
       "      <td>20.213.193.141.in-addr.arpa</td>\n",
       "    </tr>\n",
       "    <tr>\n",
       "      <th>3</th>\n",
       "      <td>141.193.213.20</td>\n",
       "      <td>berkeley.edu</td>\n",
       "      <td>636</td>\n",
       "      <td>20.213.193.141.in-addr.arpa</td>\n",
       "    </tr>\n",
       "    <tr>\n",
       "      <th>4</th>\n",
       "      <td>141.193.213.20</td>\n",
       "      <td>conviva.com</td>\n",
       "      <td>752</td>\n",
       "      <td>20.213.193.141.in-addr.arpa</td>\n",
       "    </tr>\n",
       "    <tr>\n",
       "      <th>...</th>\n",
       "      <td>...</td>\n",
       "      <td>...</td>\n",
       "      <td>...</td>\n",
       "      <td>...</td>\n",
       "    </tr>\n",
       "    <tr>\n",
       "      <th>31643</th>\n",
       "      <td>63.250.43.139</td>\n",
       "      <td>aktbaraty.com</td>\n",
       "      <td>998971</td>\n",
       "      <td>139.43.250.63.in-addr.arpa</td>\n",
       "    </tr>\n",
       "    <tr>\n",
       "      <th>31644</th>\n",
       "      <td>109.234.165.79</td>\n",
       "      <td>acces-sap.fr</td>\n",
       "      <td>999184</td>\n",
       "      <td>79.165.234.109.in-addr.arpa</td>\n",
       "    </tr>\n",
       "    <tr>\n",
       "      <th>31645</th>\n",
       "      <td>198.54.125.51</td>\n",
       "      <td>cinehindi.com</td>\n",
       "      <td>999238</td>\n",
       "      <td>51.125.54.198.in-addr.arpa</td>\n",
       "    </tr>\n",
       "    <tr>\n",
       "      <th>31646</th>\n",
       "      <td>160.153.0.40</td>\n",
       "      <td>kfapfakes.com</td>\n",
       "      <td>999316</td>\n",
       "      <td>40.0.153.160.in-addr.arpa</td>\n",
       "    </tr>\n",
       "    <tr>\n",
       "      <th>31647</th>\n",
       "      <td>179.188.53.170</td>\n",
       "      <td>redeconomia.com.br</td>\n",
       "      <td>999397</td>\n",
       "      <td>170.53.188.179.in-addr.arpa</td>\n",
       "    </tr>\n",
       "  </tbody>\n",
       "</table>\n",
       "<p>31648 rows × 4 columns</p>\n",
       "</div>"
      ],
      "text/plain": [
       "          ip4_address              domain    rank                      rev_ptr\n",
       "0        170.114.52.2             zoom.us      76    2.52.114.170.in-addr.arpa\n",
       "1      141.193.213.20        applovin.com     240  20.213.193.141.in-addr.arpa\n",
       "2      141.193.213.20          forter.com     591  20.213.193.141.in-addr.arpa\n",
       "3      141.193.213.20        berkeley.edu     636  20.213.193.141.in-addr.arpa\n",
       "4      141.193.213.20         conviva.com     752  20.213.193.141.in-addr.arpa\n",
       "...               ...                 ...     ...                          ...\n",
       "31643   63.250.43.139       aktbaraty.com  998971   139.43.250.63.in-addr.arpa\n",
       "31644  109.234.165.79        acces-sap.fr  999184  79.165.234.109.in-addr.arpa\n",
       "31645   198.54.125.51       cinehindi.com  999238   51.125.54.198.in-addr.arpa\n",
       "31646    160.153.0.40       kfapfakes.com  999316    40.0.153.160.in-addr.arpa\n",
       "31647  179.188.53.170  redeconomia.com.br  999397  170.53.188.179.in-addr.arpa\n",
       "\n",
       "[31648 rows x 4 columns]"
      ]
     },
     "execution_count": 51,
     "metadata": {},
     "output_type": "execute_result"
    }
   ],
   "source": [
    "df_new"
   ]
  },
  {
   "cell_type": "code",
   "execution_count": 47,
   "id": "d2d0f618",
   "metadata": {},
   "outputs": [
    {
     "data": {
      "text/html": [
       "<div>\n",
       "<style scoped>\n",
       "    .dataframe tbody tr th:only-of-type {\n",
       "        vertical-align: middle;\n",
       "    }\n",
       "\n",
       "    .dataframe tbody tr th {\n",
       "        vertical-align: top;\n",
       "    }\n",
       "\n",
       "    .dataframe thead th {\n",
       "        text-align: right;\n",
       "    }\n",
       "</style>\n",
       "<table border=\"1\" class=\"dataframe\">\n",
       "  <thead>\n",
       "    <tr style=\"text-align: right;\">\n",
       "      <th></th>\n",
       "      <th>ip4_address</th>\n",
       "      <th>domain</th>\n",
       "      <th>rank</th>\n",
       "      <th>rev_ptr</th>\n",
       "    </tr>\n",
       "  </thead>\n",
       "  <tbody>\n",
       "    <tr>\n",
       "      <th>0</th>\n",
       "      <td>170.114.52.2</td>\n",
       "      <td>zoom.us</td>\n",
       "      <td>76</td>\n",
       "      <td>76.0.0.0.in-addr.arpa</td>\n",
       "    </tr>\n",
       "    <tr>\n",
       "      <th>1</th>\n",
       "      <td>141.193.213.20</td>\n",
       "      <td>applovin.com</td>\n",
       "      <td>240</td>\n",
       "      <td>240.0.0.0.in-addr.arpa</td>\n",
       "    </tr>\n",
       "    <tr>\n",
       "      <th>2</th>\n",
       "      <td>141.193.213.20</td>\n",
       "      <td>forter.com</td>\n",
       "      <td>591</td>\n",
       "      <td>79.2.0.0.in-addr.arpa</td>\n",
       "    </tr>\n",
       "    <tr>\n",
       "      <th>3</th>\n",
       "      <td>141.193.213.20</td>\n",
       "      <td>berkeley.edu</td>\n",
       "      <td>636</td>\n",
       "      <td>124.2.0.0.in-addr.arpa</td>\n",
       "    </tr>\n",
       "    <tr>\n",
       "      <th>4</th>\n",
       "      <td>141.193.213.20</td>\n",
       "      <td>conviva.com</td>\n",
       "      <td>752</td>\n",
       "      <td>240.2.0.0.in-addr.arpa</td>\n",
       "    </tr>\n",
       "    <tr>\n",
       "      <th>...</th>\n",
       "      <td>...</td>\n",
       "      <td>...</td>\n",
       "      <td>...</td>\n",
       "      <td>...</td>\n",
       "    </tr>\n",
       "    <tr>\n",
       "      <th>31643</th>\n",
       "      <td>63.250.43.139</td>\n",
       "      <td>aktbaraty.com</td>\n",
       "      <td>998971</td>\n",
       "      <td>59.62.15.0.in-addr.arpa</td>\n",
       "    </tr>\n",
       "    <tr>\n",
       "      <th>31644</th>\n",
       "      <td>109.234.165.79</td>\n",
       "      <td>acces-sap.fr</td>\n",
       "      <td>999184</td>\n",
       "      <td>16.63.15.0.in-addr.arpa</td>\n",
       "    </tr>\n",
       "    <tr>\n",
       "      <th>31645</th>\n",
       "      <td>198.54.125.51</td>\n",
       "      <td>cinehindi.com</td>\n",
       "      <td>999238</td>\n",
       "      <td>70.63.15.0.in-addr.arpa</td>\n",
       "    </tr>\n",
       "    <tr>\n",
       "      <th>31646</th>\n",
       "      <td>160.153.0.40</td>\n",
       "      <td>kfapfakes.com</td>\n",
       "      <td>999316</td>\n",
       "      <td>148.63.15.0.in-addr.arpa</td>\n",
       "    </tr>\n",
       "    <tr>\n",
       "      <th>31647</th>\n",
       "      <td>179.188.53.170</td>\n",
       "      <td>redeconomia.com.br</td>\n",
       "      <td>999397</td>\n",
       "      <td>229.63.15.0.in-addr.arpa</td>\n",
       "    </tr>\n",
       "  </tbody>\n",
       "</table>\n",
       "<p>31648 rows × 4 columns</p>\n",
       "</div>"
      ],
      "text/plain": [
       "          ip4_address              domain    rank                   rev_ptr\n",
       "0        170.114.52.2             zoom.us      76     76.0.0.0.in-addr.arpa\n",
       "1      141.193.213.20        applovin.com     240    240.0.0.0.in-addr.arpa\n",
       "2      141.193.213.20          forter.com     591     79.2.0.0.in-addr.arpa\n",
       "3      141.193.213.20        berkeley.edu     636    124.2.0.0.in-addr.arpa\n",
       "4      141.193.213.20         conviva.com     752    240.2.0.0.in-addr.arpa\n",
       "...               ...                 ...     ...                       ...\n",
       "31643   63.250.43.139       aktbaraty.com  998971   59.62.15.0.in-addr.arpa\n",
       "31644  109.234.165.79        acces-sap.fr  999184   16.63.15.0.in-addr.arpa\n",
       "31645   198.54.125.51       cinehindi.com  999238   70.63.15.0.in-addr.arpa\n",
       "31646    160.153.0.40       kfapfakes.com  999316  148.63.15.0.in-addr.arpa\n",
       "31647  179.188.53.170  redeconomia.com.br  999397  229.63.15.0.in-addr.arpa\n",
       "\n",
       "[31648 rows x 4 columns]"
      ]
     },
     "execution_count": 47,
     "metadata": {},
     "output_type": "execute_result"
    }
   ],
   "source": [
    "df_new"
   ]
  },
  {
   "cell_type": "code",
   "execution_count": 38,
   "id": "bfa00ee7",
   "metadata": {},
   "outputs": [
    {
     "data": {
      "text/plain": [
       "Index(['ip4_address', 'domain', 'rank'], dtype='object')"
      ]
     },
     "execution_count": 38,
     "metadata": {},
     "output_type": "execute_result"
    }
   ],
   "source": [
    "df.columns"
   ]
  }
 ],
 "metadata": {
  "kernelspec": {
   "display_name": "Python 3 (ipykernel)",
   "language": "python",
   "name": "python3"
  },
  "language_info": {
   "codemirror_mode": {
    "name": "ipython",
    "version": 3
   },
   "file_extension": ".py",
   "mimetype": "text/x-python",
   "name": "python",
   "nbconvert_exporter": "python",
   "pygments_lexer": "ipython3",
   "version": "3.10.12"
  }
 },
 "nbformat": 4,
 "nbformat_minor": 5
}
